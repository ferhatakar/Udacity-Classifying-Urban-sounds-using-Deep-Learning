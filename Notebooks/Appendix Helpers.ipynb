{
 "cells": [
  {
   "cell_type": "markdown",
   "metadata": {},
   "source": [
    "# Classifying Urban sounds using Deep Learning\n",
    "\n",
    "## Appendix Helpers"
   ]
  },
  {
   "cell_type": "markdown",
   "metadata": {},
   "source": [
    "### Wav file helper\n",
    "\n",
    "![Wav file](http://soundfile.sapp.org/doc/WaveFormat/wav-sound-format.gif)\n",
    "\n",
    "Image referenced from http://soundfile.sapp.org/doc/WaveFormat/"
   ]
  },
  {
   "cell_type": "code",
   "execution_count": 1,
   "metadata": {},
   "outputs": [
    {
     "name": "stdout",
     "output_type": "stream",
     "text": [
      "(2, 44100, 16)\n"
     ]
    }
   ],
   "source": [
    "from helpers.wavfilehelper import WavFileHelper\n",
    "\n",
    "wavfilehelper = WavFileHelper()\n",
    "data = wavfilehelper.read_file_properties('../Urban Data sample set/audio/30204.wav')\n",
    "\n",
    "print(data)\n",
    "\n",
    "# "
   ]
  }
 ],
 "metadata": {
  "kernelspec": {
   "display_name": "Python 3",
   "language": "python",
   "name": "python3"
  },
  "language_info": {
   "codemirror_mode": {
    "name": "ipython",
    "version": 3
   },
   "file_extension": ".py",
   "mimetype": "text/x-python",
   "name": "python",
   "nbconvert_exporter": "python",
   "pygments_lexer": "ipython3",
   "version": "3.6.4"
  }
 },
 "nbformat": 4,
 "nbformat_minor": 2
}
