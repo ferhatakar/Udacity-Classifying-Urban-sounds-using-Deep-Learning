{
 "cells": [
  {
   "cell_type": "markdown",
   "metadata": {},
   "source": [
    "# Classifying Urban sounds using Deep Learning\n",
    "\n",
    "## 4 Model Refinement "
   ]
  },
  {
   "cell_type": "markdown",
   "metadata": {},
   "source": [
    "### Load Preprocessed data "
   ]
  },
  {
   "cell_type": "code",
   "execution_count": 1,
   "metadata": {},
   "outputs": [],
   "source": [
    "# retrieve the preprocessed data from previous notebook\n",
    "\n",
    "%store -r x_train \n",
    "%store -r x_test \n",
    "%store -r y_train \n",
    "%store -r y_test \n",
    "%store -r yy \n",
    "%store -r le"
   ]
  },
  {
   "cell_type": "markdown",
   "metadata": {},
   "source": [
    "#### Model refinement\n",
    "\n",
    "In our inital attempt, we were able to achieve a Classification Accuracy score of: \n",
    "\n",
    "* Training data Accuracy:  92.3% \n",
    "* Testing data Accuracy:  87% \n",
    "\n",
    "We will now see if we can improve upon that score using a Convolutional Neural Network (CNN). "
   ]
  },
  {
   "cell_type": "markdown",
   "metadata": {},
   "source": [
    "#### Feature Extraction refinement \n",
    "\n",
    "In the prevous feature extraction stage, the MFCC vectors would vary in size for the different audio files (depending on the samples duration). \n",
    "\n",
    "However, CNNs require a fixed size for all inputs. To overcome this we will zero pad the output vectors to make them all the same size. "
   ]
  },
  {
   "cell_type": "code",
   "execution_count": 28,
   "metadata": {},
   "outputs": [],
   "source": [
    "import numpy as np\n",
    "max_pad_len = 174\n",
    "\n",
    "def extract_features(file_name):\n",
    "   \n",
    "    try:\n",
    "        audio, sample_rate = librosa.load(file_name, res_type='kaiser_fast') \n",
    "        mfccs = librosa.feature.mfcc(y=audio, sr=sample_rate, n_mfcc=40)\n",
    "        pad_width = max_pad_len - mfccs.shape[1]\n",
    "        mfccs = np.pad(mfccs, pad_width=((0, 0), (0, pad_width)), mode='constant')\n",
    "        \n",
    "    except Exception as e:\n",
    "        print(\"Error encountered while parsing file: \", file_name)\n",
    "        return None \n",
    "     \n",
    "    return mfccs"
   ]
  },
  {
   "cell_type": "code",
   "execution_count": 7,
   "metadata": {},
   "outputs": [
    {
     "name": "stdout",
     "output_type": "stream",
     "text": [
      "Finished feature extraction from  8732  files\n"
     ]
    }
   ],
   "source": [
    "# Load various imports \n",
    "import pandas as pd\n",
    "import os\n",
    "import librosa\n",
    "\n",
    "# Set the path to the full UrbanSound dataset \n",
    "fulldatasetpath = '/Volumes/Untitled/ML_Data/Urban Sound/UrbanSound8K/audio/'\n",
    "\n",
    "metadata = pd.read_csv('../UrbanSound Dataset sample/metadata/UrbanSound8K.csv')\n",
    "\n",
    "features = []\n",
    "\n",
    "# Iterate through each sound file and extract the features \n",
    "for index, row in metadata.iterrows():\n",
    "    \n",
    "    file_name = os.path.join(os.path.abspath(fulldatasetpath),'fold'+str(row[\"fold\"])+'/',str(row[\"slice_file_name\"]))\n",
    "    \n",
    "    class_label = row[\"class_name\"]\n",
    "    data = extract_features(file_name)\n",
    "    \n",
    "    features.append([data, class_label])\n",
    "\n",
    "# Convert into a Panda dataframe \n",
    "featuresdf = pd.DataFrame(features, columns=['feature','class_label'])\n",
    "\n",
    "print('Finished feature extraction from ', len(featuresdf), ' files') "
   ]
  },
  {
   "cell_type": "code",
   "execution_count": 62,
   "metadata": {},
   "outputs": [],
   "source": [
    "from sklearn.preprocessing import LabelEncoder\n",
    "from keras.utils import to_categorical\n",
    "\n",
    "# Convert features and corresponding classification labels into numpy arrays\n",
    "X = np.array(featuresdf.feature.tolist())\n",
    "y = np.array(featuresdf.class_label.tolist())\n",
    "\n",
    "# Encode the classification labels\n",
    "le = LabelEncoder()\n",
    "yy = to_categorical(le.fit_transform(y)) \n",
    "\n",
    "# split the dataset \n",
    "from sklearn.model_selection import train_test_split \n",
    "\n",
    "x_train, x_test, y_train, y_test = train_test_split(X, yy, test_size=0.2, random_state = 42)"
   ]
  },
  {
   "cell_type": "markdown",
   "metadata": {},
   "source": [
    "### Convolutional Neural Network (CNN) model architecture \n",
    "\n",
    "\n",
    "We will modify our model to be a Convolutional Neural Network (CNN) again using Keras and a Tensorflow backend. \n",
    "\n",
    "Again we will use a `sequential` model, starting with a simple model architecture, consisting of four `Conv2D` convolution layers, with our final output layer being a `dense` layer. \n",
    "\n",
    "The convolution layers are designed for feature detection. It works by sliding a filter window over the input and performing a matrix multiplication and storing the result in a feature map. This operation is known as a convolution. \n",
    "\n",
    "\n",
    "The `filter` parameter specifies the number of nodes in each layer. Each layer will increase in size from 16, 32, 64 to 128, while the `kernel_size` parameter specifies the size of the kernel window which in this case is 2 resulting in a 2x2 filter matrix. \n",
    "\n",
    "The first layer will receive the input shape of (40, 174, 1) where 40 is the number of MFCC's 174 is the number of frames taking padding into account and the 1 signifying that the audio is mono. \n",
    "\n",
    "The activation function we will be using for our convolutional layers is `ReLU` which is the same as our previous model. We will use a smaller `Dropout` value of 20% on our convolutional layers. \n",
    "\n",
    "Each convolutional layer has an associated pooling layer of `MaxPooling2D` type with the final convolutional layer having a `GlobalAveragePooling2D` type. The pooling layer is do reduce the dimensionality of the model (by reducing the parameters and subsquent computation requirements) which serves to shorten the training time and reduce overfitting. The Max Pooling type takes the maximum size for each window and the Global Average Pooling type takes the average which is suitable for feeding into our `dense` output layer.  \n",
    "\n",
    "Our output layer will have 10 nodes (num_labels) which matches the number of possible classifications. The activation is for our output layer is `softmax`. Softmax makes the output sum up to 1 so the output can be interpreted as probabilities. The model will then make its prediction based on which option has the highest probability."
   ]
  },
  {
   "cell_type": "code",
   "execution_count": 43,
   "metadata": {},
   "outputs": [],
   "source": [
    "import numpy as np\n",
    "from keras.models import Sequential\n",
    "from keras.layers import Dense, Dropout, Activation, Flatten\n",
    "from keras.layers import Convolution2D, Conv2D, MaxPooling2D, GlobalAveragePooling2D\n",
    "from keras.optimizers import Adam\n",
    "from keras.utils import np_utils\n",
    "from sklearn import metrics \n",
    "\n",
    "num_rows = 40\n",
    "num_columns = 174\n",
    "num_channels = 1\n",
    "\n",
    "x_train = x_train.reshape(x_train.shape[0], num_rows, num_columns, num_channels)\n",
    "x_test = x_test.reshape(x_test.shape[0], num_rows, num_columns, num_channels)\n",
    "\n",
    "num_labels = yy.shape[1]\n",
    "filter_size = 2\n",
    "\n",
    "# Construct model \n",
    "model = Sequential()\n",
    "model.add(Conv2D(filters=16, kernel_size=2, input_shape=(num_rows, num_columns, num_channels), activation='relu'))\n",
    "model.add(MaxPooling2D(pool_size=2))\n",
    "model.add(Dropout(0.2))\n",
    "\n",
    "model.add(Conv2D(filters=32, kernel_size=2, activation='relu'))\n",
    "model.add(MaxPooling2D(pool_size=2))\n",
    "model.add(Dropout(0.2))\n",
    "\n",
    "model.add(Conv2D(filters=64, kernel_size=2, activation='relu'))\n",
    "model.add(MaxPooling2D(pool_size=2))\n",
    "model.add(Dropout(0.2))\n",
    "\n",
    "model.add(Conv2D(filters=128, kernel_size=2, activation='relu'))\n",
    "model.add(MaxPooling2D(pool_size=2))\n",
    "model.add(Dropout(0.2))\n",
    "model.add(GlobalAveragePooling2D())\n",
    "\n",
    "model.add(Dense(num_labels, activation='softmax')) "
   ]
  },
  {
   "cell_type": "markdown",
   "metadata": {},
   "source": [
    "### Compiling the model \n",
    "\n",
    "For compiling our model, we will use the same three parameters as the previous model: "
   ]
  },
  {
   "cell_type": "code",
   "execution_count": 44,
   "metadata": {},
   "outputs": [],
   "source": [
    "# Compile the model\n",
    "model.compile(loss='categorical_crossentropy', metrics=['accuracy'], optimizer='adam') "
   ]
  },
  {
   "cell_type": "code",
   "execution_count": 45,
   "metadata": {},
   "outputs": [
    {
     "name": "stdout",
     "output_type": "stream",
     "text": [
      "_________________________________________________________________\n",
      "Layer (type)                 Output Shape              Param #   \n",
      "=================================================================\n",
      "conv2d_11 (Conv2D)           (None, 39, 173, 16)       80        \n",
      "_________________________________________________________________\n",
      "max_pooling2d_11 (MaxPooling (None, 19, 86, 16)        0         \n",
      "_________________________________________________________________\n",
      "dropout_17 (Dropout)         (None, 19, 86, 16)        0         \n",
      "_________________________________________________________________\n",
      "conv2d_12 (Conv2D)           (None, 18, 85, 32)        2080      \n",
      "_________________________________________________________________\n",
      "max_pooling2d_12 (MaxPooling (None, 9, 42, 32)         0         \n",
      "_________________________________________________________________\n",
      "dropout_18 (Dropout)         (None, 9, 42, 32)         0         \n",
      "_________________________________________________________________\n",
      "conv2d_13 (Conv2D)           (None, 8, 41, 64)         8256      \n",
      "_________________________________________________________________\n",
      "max_pooling2d_13 (MaxPooling (None, 4, 20, 64)         0         \n",
      "_________________________________________________________________\n",
      "dropout_19 (Dropout)         (None, 4, 20, 64)         0         \n",
      "_________________________________________________________________\n",
      "conv2d_14 (Conv2D)           (None, 3, 19, 128)        32896     \n",
      "_________________________________________________________________\n",
      "max_pooling2d_14 (MaxPooling (None, 1, 9, 128)         0         \n",
      "_________________________________________________________________\n",
      "dropout_20 (Dropout)         (None, 1, 9, 128)         0         \n",
      "_________________________________________________________________\n",
      "global_average_pooling2d_1 ( (None, 128)               0         \n",
      "_________________________________________________________________\n",
      "dense_13 (Dense)             (None, 10)                1290      \n",
      "=================================================================\n",
      "Total params: 44,602\n",
      "Trainable params: 44,602\n",
      "Non-trainable params: 0\n",
      "_________________________________________________________________\n",
      "1747/1747 [==============================] - 9s 5ms/step\n",
      "Pre-training accuracy: 12.0206%\n"
     ]
    }
   ],
   "source": [
    "# Display model architecture summary \n",
    "model.summary()\n",
    "\n",
    "# Calculate pre-training accuracy \n",
    "score = model.evaluate(x_test, y_test, verbose=1)\n",
    "accuracy = 100*score[1]\n",
    "\n",
    "print(\"Pre-training accuracy: %.4f%%\" % accuracy)"
   ]
  },
  {
   "cell_type": "markdown",
   "metadata": {},
   "source": [
    "### Training \n",
    "\n",
    "Here we will train the model. As training a CNN can take a sigificant amount of time, we will start with a low number of epochs and a low batch size. If we can see from the output that the model is converging, we will increase both numbers.  "
   ]
  },
  {
   "cell_type": "code",
   "execution_count": 60,
   "metadata": {},
   "outputs": [
    {
     "name": "stdout",
     "output_type": "stream",
     "text": [
      "Train on 6985 samples, validate on 1747 samples\n",
      "Epoch 1/72\n",
      "6985/6985 [==============================] - 76s 11ms/step - loss: 0.2628 - acc: 0.9085 - val_loss: 0.3790 - val_acc: 0.8775\n",
      "\n",
      "Epoch 00001: val_loss improved from inf to 0.37902, saving model to saved_models/weights.best.basic_cnn.hdf5\n",
      "Epoch 2/72\n",
      "6985/6985 [==============================] - 73s 10ms/step - loss: 0.2660 - acc: 0.9059 - val_loss: 0.3559 - val_acc: 0.8878\n",
      "\n",
      "Epoch 00002: val_loss improved from 0.37902 to 0.35589, saving model to saved_models/weights.best.basic_cnn.hdf5\n",
      "Epoch 3/72\n",
      "6985/6985 [==============================] - 72s 10ms/step - loss: 0.2410 - acc: 0.9184 - val_loss: 0.3456 - val_acc: 0.8930\n",
      "\n",
      "Epoch 00003: val_loss improved from 0.35589 to 0.34559, saving model to saved_models/weights.best.basic_cnn.hdf5\n",
      "Epoch 4/72\n",
      "6985/6985 [==============================] - 71s 10ms/step - loss: 0.2464 - acc: 0.9101 - val_loss: 0.3377 - val_acc: 0.8941\n",
      "\n",
      "Epoch 00004: val_loss improved from 0.34559 to 0.33769, saving model to saved_models/weights.best.basic_cnn.hdf5\n",
      "Epoch 5/72\n",
      "6985/6985 [==============================] - 72s 10ms/step - loss: 0.2316 - acc: 0.9152 - val_loss: 0.3458 - val_acc: 0.8930\n",
      "\n",
      "Epoch 00005: val_loss did not improve from 0.33769\n",
      "Epoch 6/72\n",
      "6985/6985 [==============================] - 72s 10ms/step - loss: 0.2376 - acc: 0.9144 - val_loss: 0.3508 - val_acc: 0.8844\n",
      "\n",
      "Epoch 00006: val_loss did not improve from 0.33769\n",
      "Epoch 7/72\n",
      "6985/6985 [==============================] - 72s 10ms/step - loss: 0.2501 - acc: 0.9145 - val_loss: 0.3896 - val_acc: 0.8735\n",
      "\n",
      "Epoch 00007: val_loss did not improve from 0.33769\n",
      "Epoch 8/72\n",
      "6985/6985 [==============================] - 71s 10ms/step - loss: 0.2270 - acc: 0.9158 - val_loss: 0.3549 - val_acc: 0.8878\n",
      "\n",
      "Epoch 00008: val_loss did not improve from 0.33769\n",
      "Epoch 9/72\n",
      "6985/6985 [==============================] - 71s 10ms/step - loss: 0.2331 - acc: 0.9211 - val_loss: 0.3394 - val_acc: 0.8890\n",
      "\n",
      "Epoch 00009: val_loss did not improve from 0.33769\n",
      "Epoch 10/72\n",
      "6985/6985 [==============================] - 71s 10ms/step - loss: 0.2351 - acc: 0.9167 - val_loss: 0.3328 - val_acc: 0.8912\n",
      "\n",
      "Epoch 00010: val_loss improved from 0.33769 to 0.33276, saving model to saved_models/weights.best.basic_cnn.hdf5\n",
      "Epoch 11/72\n",
      "6985/6985 [==============================] - 72s 10ms/step - loss: 0.2269 - acc: 0.9187 - val_loss: 0.3289 - val_acc: 0.9021\n",
      "\n",
      "Epoch 00011: val_loss improved from 0.33276 to 0.32894, saving model to saved_models/weights.best.basic_cnn.hdf5\n",
      "Epoch 12/72\n",
      "6985/6985 [==============================] - 71s 10ms/step - loss: 0.2144 - acc: 0.9264 - val_loss: 0.3220 - val_acc: 0.9015\n",
      "\n",
      "Epoch 00012: val_loss improved from 0.32894 to 0.32195, saving model to saved_models/weights.best.basic_cnn.hdf5\n",
      "Epoch 13/72\n",
      "6985/6985 [==============================] - 71s 10ms/step - loss: 0.2214 - acc: 0.9237 - val_loss: 0.3807 - val_acc: 0.8867\n",
      "\n",
      "Epoch 00013: val_loss did not improve from 0.32195\n",
      "Epoch 14/72\n",
      "6985/6985 [==============================] - 71s 10ms/step - loss: 0.2173 - acc: 0.9246 - val_loss: 0.3123 - val_acc: 0.9033\n",
      "\n",
      "Epoch 00014: val_loss improved from 0.32195 to 0.31233, saving model to saved_models/weights.best.basic_cnn.hdf5\n",
      "Epoch 15/72\n",
      "6985/6985 [==============================] - 73s 10ms/step - loss: 0.2070 - acc: 0.9270 - val_loss: 0.3089 - val_acc: 0.9027\n",
      "\n",
      "Epoch 00015: val_loss improved from 0.31233 to 0.30894, saving model to saved_models/weights.best.basic_cnn.hdf5\n",
      "Epoch 16/72\n",
      "6985/6985 [==============================] - 79s 11ms/step - loss: 0.2148 - acc: 0.9254 - val_loss: 0.3139 - val_acc: 0.9033\n",
      "\n",
      "Epoch 00016: val_loss did not improve from 0.30894\n",
      "Epoch 17/72\n",
      "6985/6985 [==============================] - 73s 10ms/step - loss: 0.2046 - acc: 0.9251 - val_loss: 0.3173 - val_acc: 0.9015\n",
      "\n",
      "Epoch 00017: val_loss did not improve from 0.30894\n",
      "Epoch 18/72\n",
      "6985/6985 [==============================] - 72s 10ms/step - loss: 0.2045 - acc: 0.9250 - val_loss: 0.3344 - val_acc: 0.8998\n",
      "\n",
      "Epoch 00018: val_loss did not improve from 0.30894\n",
      "Epoch 19/72\n",
      "6985/6985 [==============================] - 72s 10ms/step - loss: 0.1988 - acc: 0.9316 - val_loss: 0.3075 - val_acc: 0.9107\n",
      "\n",
      "Epoch 00019: val_loss improved from 0.30894 to 0.30752, saving model to saved_models/weights.best.basic_cnn.hdf5\n",
      "Epoch 20/72\n",
      "6985/6985 [==============================] - 72s 10ms/step - loss: 0.2026 - acc: 0.9286 - val_loss: 0.3416 - val_acc: 0.9056\n",
      "\n",
      "Epoch 00020: val_loss did not improve from 0.30752\n",
      "Epoch 21/72\n",
      "6985/6985 [==============================] - 72s 10ms/step - loss: 0.2062 - acc: 0.9266 - val_loss: 0.3123 - val_acc: 0.9073\n",
      "\n",
      "Epoch 00021: val_loss did not improve from 0.30752\n",
      "Epoch 22/72\n",
      "6985/6985 [==============================] - 72s 10ms/step - loss: 0.1956 - acc: 0.9320 - val_loss: 0.2969 - val_acc: 0.9107\n",
      "\n",
      "Epoch 00022: val_loss improved from 0.30752 to 0.29689, saving model to saved_models/weights.best.basic_cnn.hdf5\n",
      "Epoch 23/72\n",
      "6985/6985 [==============================] - 72s 10ms/step - loss: 0.1992 - acc: 0.9297 - val_loss: 0.3282 - val_acc: 0.9061\n",
      "\n",
      "Epoch 00023: val_loss did not improve from 0.29689\n",
      "Epoch 24/72\n",
      "6985/6985 [==============================] - 72s 10ms/step - loss: 0.1990 - acc: 0.9298 - val_loss: 0.3500 - val_acc: 0.8981\n",
      "\n",
      "Epoch 00024: val_loss did not improve from 0.29689\n",
      "Epoch 25/72\n",
      "6985/6985 [==============================] - 72s 10ms/step - loss: 0.1906 - acc: 0.9359 - val_loss: 0.3025 - val_acc: 0.9113\n",
      "\n",
      "Epoch 00025: val_loss did not improve from 0.29689\n",
      "Epoch 26/72\n",
      "6985/6985 [==============================] - 71s 10ms/step - loss: 0.1808 - acc: 0.9369 - val_loss: 0.3063 - val_acc: 0.9067\n",
      "\n",
      "Epoch 00026: val_loss did not improve from 0.29689\n",
      "Epoch 27/72\n",
      "6985/6985 [==============================] - 72s 10ms/step - loss: 0.1890 - acc: 0.9369 - val_loss: 0.3290 - val_acc: 0.9033\n",
      "\n",
      "Epoch 00027: val_loss did not improve from 0.29689\n",
      "Epoch 28/72\n",
      "6985/6985 [==============================] - 71s 10ms/step - loss: 0.1803 - acc: 0.9360 - val_loss: 0.2824 - val_acc: 0.9107\n",
      "\n",
      "Epoch 00028: val_loss improved from 0.29689 to 0.28240, saving model to saved_models/weights.best.basic_cnn.hdf5\n",
      "Epoch 29/72\n",
      "6985/6985 [==============================] - 72s 10ms/step - loss: 0.1795 - acc: 0.9374 - val_loss: 0.4025 - val_acc: 0.8792\n",
      "\n",
      "Epoch 00029: val_loss did not improve from 0.28240\n",
      "Epoch 30/72\n",
      "6985/6985 [==============================] - 72s 10ms/step - loss: 0.1828 - acc: 0.9372 - val_loss: 0.3079 - val_acc: 0.9084\n",
      "\n",
      "Epoch 00030: val_loss did not improve from 0.28240\n",
      "Epoch 31/72\n",
      "6985/6985 [==============================] - 72s 10ms/step - loss: 0.1858 - acc: 0.9363 - val_loss: 0.3268 - val_acc: 0.8987\n",
      "\n",
      "Epoch 00031: val_loss did not improve from 0.28240\n",
      "Epoch 32/72\n",
      "6985/6985 [==============================] - 72s 10ms/step - loss: 0.1787 - acc: 0.9390 - val_loss: 0.3239 - val_acc: 0.9004\n",
      "\n",
      "Epoch 00032: val_loss did not improve from 0.28240\n",
      "Epoch 33/72\n",
      "6985/6985 [==============================] - 72s 10ms/step - loss: 0.1694 - acc: 0.9413 - val_loss: 0.3237 - val_acc: 0.9078\n",
      "\n",
      "Epoch 00033: val_loss did not improve from 0.28240\n",
      "Epoch 34/72\n",
      "6985/6985 [==============================] - 72s 10ms/step - loss: 0.1689 - acc: 0.9380 - val_loss: 0.3053 - val_acc: 0.9056\n",
      "\n",
      "Epoch 00034: val_loss did not improve from 0.28240\n",
      "Epoch 35/72\n",
      "6985/6985 [==============================] - 71s 10ms/step - loss: 0.1621 - acc: 0.9466 - val_loss: 0.3185 - val_acc: 0.9090\n",
      "\n",
      "Epoch 00035: val_loss did not improve from 0.28240\n",
      "Epoch 36/72\n",
      "6985/6985 [==============================] - 71s 10ms/step - loss: 0.1570 - acc: 0.9449 - val_loss: 0.2865 - val_acc: 0.9113\n",
      "\n",
      "Epoch 00036: val_loss did not improve from 0.28240\n",
      "Epoch 37/72\n",
      "6985/6985 [==============================] - 71s 10ms/step - loss: 0.1571 - acc: 0.9469 - val_loss: 0.3076 - val_acc: 0.9084\n",
      "\n",
      "Epoch 00037: val_loss did not improve from 0.28240\n",
      "Epoch 38/72\n",
      "6985/6985 [==============================] - 71s 10ms/step - loss: 0.1523 - acc: 0.9472 - val_loss: 0.3855 - val_acc: 0.8958\n",
      "\n",
      "Epoch 00038: val_loss did not improve from 0.28240\n",
      "Epoch 39/72\n",
      "6985/6985 [==============================] - 72s 10ms/step - loss: 0.1620 - acc: 0.9453 - val_loss: 0.3272 - val_acc: 0.8952\n",
      "\n",
      "Epoch 00039: val_loss did not improve from 0.28240\n",
      "Epoch 40/72\n",
      "6985/6985 [==============================] - 71s 10ms/step - loss: 0.1613 - acc: 0.9449 - val_loss: 0.3224 - val_acc: 0.9067\n",
      "\n",
      "Epoch 00040: val_loss did not improve from 0.28240\n",
      "Epoch 41/72\n",
      "6985/6985 [==============================] - 71s 10ms/step - loss: 0.1641 - acc: 0.9417 - val_loss: 0.2917 - val_acc: 0.9199\n",
      "\n",
      "Epoch 00041: val_loss did not improve from 0.28240\n",
      "Epoch 42/72\n",
      "6985/6985 [==============================] - 71s 10ms/step - loss: 0.1606 - acc: 0.9440 - val_loss: 0.2793 - val_acc: 0.9187\n",
      "\n",
      "Epoch 00042: val_loss improved from 0.28240 to 0.27932, saving model to saved_models/weights.best.basic_cnn.hdf5\n",
      "Epoch 43/72\n",
      "6985/6985 [==============================] - 70s 10ms/step - loss: 0.1505 - acc: 0.9476 - val_loss: 0.2989 - val_acc: 0.9084\n",
      "\n",
      "Epoch 00043: val_loss did not improve from 0.27932\n",
      "Epoch 44/72\n",
      "6985/6985 [==============================] - 70s 10ms/step - loss: 0.1577 - acc: 0.9432 - val_loss: 0.3483 - val_acc: 0.9056\n",
      "\n",
      "Epoch 00044: val_loss did not improve from 0.27932\n",
      "Epoch 45/72\n",
      "6985/6985 [==============================] - 70s 10ms/step - loss: 0.1540 - acc: 0.9475 - val_loss: 0.2879 - val_acc: 0.9170\n",
      "\n",
      "Epoch 00045: val_loss did not improve from 0.27932\n",
      "Epoch 46/72\n",
      "6985/6985 [==============================] - 70s 10ms/step - loss: 0.1461 - acc: 0.9490 - val_loss: 0.3188 - val_acc: 0.9113\n",
      "\n",
      "Epoch 00046: val_loss did not improve from 0.27932\n",
      "Epoch 47/72\n",
      "6985/6985 [==============================] - 71s 10ms/step - loss: 0.1479 - acc: 0.9472 - val_loss: 0.3203 - val_acc: 0.9073\n",
      "\n",
      "Epoch 00047: val_loss did not improve from 0.27932\n",
      "Epoch 48/72\n",
      "6985/6985 [==============================] - 70s 10ms/step - loss: 0.1637 - acc: 0.9450 - val_loss: 0.3045 - val_acc: 0.9050\n",
      "\n",
      "Epoch 00048: val_loss did not improve from 0.27932\n",
      "Epoch 49/72\n",
      "6985/6985 [==============================] - 70s 10ms/step - loss: 0.1511 - acc: 0.9473 - val_loss: 0.2745 - val_acc: 0.9256\n",
      "\n",
      "Epoch 00049: val_loss improved from 0.27932 to 0.27453, saving model to saved_models/weights.best.basic_cnn.hdf5\n",
      "Epoch 50/72\n",
      "6985/6985 [==============================] - 71s 10ms/step - loss: 0.1376 - acc: 0.9513 - val_loss: 0.3237 - val_acc: 0.9141\n",
      "\n",
      "Epoch 00050: val_loss did not improve from 0.27453\n",
      "Epoch 51/72\n",
      "6985/6985 [==============================] - 70s 10ms/step - loss: 0.1385 - acc: 0.9515 - val_loss: 0.3292 - val_acc: 0.9067\n",
      "\n",
      "Epoch 00051: val_loss did not improve from 0.27453\n",
      "Epoch 52/72\n",
      "6985/6985 [==============================] - 10691s 2s/step - loss: 0.1424 - acc: 0.9485 - val_loss: 0.2846 - val_acc: 0.9181\n",
      "\n",
      "Epoch 00052: val_loss did not improve from 0.27453\n",
      "Epoch 53/72\n",
      "6985/6985 [==============================] - 176s 25ms/step - loss: 0.1337 - acc: 0.9533 - val_loss: 0.2813 - val_acc: 0.9164\n",
      "\n",
      "Epoch 00053: val_loss did not improve from 0.27453\n",
      "Epoch 54/72\n",
      "6985/6985 [==============================] - 176s 25ms/step - loss: 0.1529 - acc: 0.9466 - val_loss: 0.3030 - val_acc: 0.9141\n",
      "\n",
      "Epoch 00054: val_loss did not improve from 0.27453\n",
      "Epoch 55/72\n",
      "6985/6985 [==============================] - 177s 25ms/step - loss: 0.1392 - acc: 0.9523 - val_loss: 0.2990 - val_acc: 0.9130\n",
      "\n",
      "Epoch 00055: val_loss did not improve from 0.27453\n",
      "Epoch 56/72\n",
      "6985/6985 [==============================] - 181s 26ms/step - loss: 0.1461 - acc: 0.9509 - val_loss: 0.3298 - val_acc: 0.9010\n",
      "\n",
      "Epoch 00056: val_loss did not improve from 0.27453\n",
      "Epoch 57/72\n",
      "6985/6985 [==============================] - 179s 26ms/step - loss: 0.1330 - acc: 0.9542 - val_loss: 0.3374 - val_acc: 0.9084\n",
      "\n",
      "Epoch 00057: val_loss did not improve from 0.27453\n",
      "Epoch 58/72\n",
      "6985/6985 [==============================] - 182s 26ms/step - loss: 0.1321 - acc: 0.9529 - val_loss: 0.3465 - val_acc: 0.9061\n",
      "\n",
      "Epoch 00058: val_loss did not improve from 0.27453\n",
      "Epoch 59/72\n",
      "6985/6985 [==============================] - 182s 26ms/step - loss: 0.1281 - acc: 0.9553 - val_loss: 0.2965 - val_acc: 0.9187\n",
      "\n",
      "Epoch 00059: val_loss did not improve from 0.27453\n",
      "Epoch 60/72\n",
      "6985/6985 [==============================] - 182s 26ms/step - loss: 0.1393 - acc: 0.9503 - val_loss: 0.3104 - val_acc: 0.9136\n",
      "\n",
      "Epoch 00060: val_loss did not improve from 0.27453\n",
      "Epoch 61/72\n",
      "6985/6985 [==============================] - 183s 26ms/step - loss: 0.1287 - acc: 0.9530 - val_loss: 0.2871 - val_acc: 0.9147\n",
      "\n",
      "Epoch 00061: val_loss did not improve from 0.27453\n",
      "Epoch 62/72\n",
      "6985/6985 [==============================] - 185s 26ms/step - loss: 0.1410 - acc: 0.9508 - val_loss: 0.3286 - val_acc: 0.9124\n",
      "\n",
      "Epoch 00062: val_loss did not improve from 0.27453\n",
      "Epoch 63/72\n",
      "6985/6985 [==============================] - 184s 26ms/step - loss: 0.1303 - acc: 0.9526 - val_loss: 0.3357 - val_acc: 0.9084\n",
      "\n",
      "Epoch 00063: val_loss did not improve from 0.27453\n",
      "Epoch 64/72\n",
      "6985/6985 [==============================] - 186s 27ms/step - loss: 0.1350 - acc: 0.9503 - val_loss: 0.3213 - val_acc: 0.9147\n",
      "\n",
      "Epoch 00064: val_loss did not improve from 0.27453\n",
      "Epoch 65/72\n",
      "6985/6985 [==============================] - 183s 26ms/step - loss: 0.1210 - acc: 0.9556 - val_loss: 0.2724 - val_acc: 0.9256\n",
      "\n",
      "Epoch 00065: val_loss improved from 0.27453 to 0.27239, saving model to saved_models/weights.best.basic_cnn.hdf5\n",
      "Epoch 66/72\n",
      "6985/6985 [==============================] - 184s 26ms/step - loss: 0.1216 - acc: 0.9596 - val_loss: 0.3336 - val_acc: 0.9101\n",
      "\n",
      "Epoch 00066: val_loss did not improve from 0.27239\n",
      "Epoch 67/72\n",
      "6985/6985 [==============================] - 198s 28ms/step - loss: 0.1135 - acc: 0.9583 - val_loss: 0.2843 - val_acc: 0.9227\n",
      "\n",
      "Epoch 00067: val_loss did not improve from 0.27239\n",
      "Epoch 68/72\n",
      "6985/6985 [==============================] - 265s 38ms/step - loss: 0.1245 - acc: 0.9572 - val_loss: 0.2972 - val_acc: 0.9147\n",
      "\n",
      "Epoch 00068: val_loss did not improve from 0.27239\n",
      "Epoch 69/72\n",
      "6985/6985 [==============================] - 266s 38ms/step - loss: 0.1172 - acc: 0.9599 - val_loss: 0.3116 - val_acc: 0.9204\n",
      "\n",
      "Epoch 00069: val_loss did not improve from 0.27239\n",
      "Epoch 70/72\n",
      "6985/6985 [==============================] - 265s 38ms/step - loss: 0.1213 - acc: 0.9568 - val_loss: 0.2978 - val_acc: 0.9164\n",
      "\n",
      "Epoch 00070: val_loss did not improve from 0.27239\n",
      "Epoch 71/72\n",
      "6985/6985 [==============================] - 14289s 2s/step - loss: 0.1203 - acc: 0.9581 - val_loss: 0.2878 - val_acc: 0.9164\n",
      "\n",
      "Epoch 00071: val_loss did not improve from 0.27239\n",
      "Epoch 72/72\n",
      "6985/6985 [==============================] - 92s 13ms/step - loss: 0.1147 - acc: 0.9596 - val_loss: 0.3005 - val_acc: 0.9193\n",
      "\n",
      "Epoch 00072: val_loss did not improve from 0.27239\n",
      "Training completed in time:  8:57:38.203486\n"
     ]
    }
   ],
   "source": [
    "from keras.callbacks import ModelCheckpoint \n",
    "from datetime import datetime \n",
    "\n",
    "#num_epochs = 12\n",
    "#num_batch_size = 128\n",
    "\n",
    "num_epochs = 72\n",
    "num_batch_size = 256\n",
    "\n",
    "checkpointer = ModelCheckpoint(filepath='saved_models/weights.best.basic_cnn.hdf5', \n",
    "                               verbose=1, save_best_only=True)\n",
    "start = datetime.now()\n",
    "\n",
    "model.fit(x_train, y_train, batch_size=num_batch_size, epochs=num_epochs, validation_data=(x_test, y_test), callbacks=[checkpointer], verbose=1)\n",
    "\n",
    "\n",
    "duration = datetime.now() - start\n",
    "print(\"Training completed in time: \", duration)"
   ]
  },
  {
   "cell_type": "markdown",
   "metadata": {},
   "source": [
    "### Test the model \n",
    "\n",
    "Here we will review the accuracy of the model on both the training and test data sets. "
   ]
  },
  {
   "cell_type": "code",
   "execution_count": 61,
   "metadata": {},
   "outputs": [
    {
     "name": "stdout",
     "output_type": "stream",
     "text": [
      "Training Accuracy:  0.9819613457408733\n",
      "Testing Accuracy:  0.9192902116210514\n"
     ]
    }
   ],
   "source": [
    "# Evaluating the model on the training and testing set\n",
    "score = model.evaluate(x_train, y_train, verbose=0)\n",
    "print(\"Training Accuracy: \", score[1])\n",
    "\n",
    "score = model.evaluate(x_test, y_test, verbose=0)\n",
    "print(\"Testing Accuracy: \", score[1])"
   ]
  },
  {
   "cell_type": "markdown",
   "metadata": {},
   "source": [
    "The Training and Testing accuracy scores are both high and an increase on our initial model. Training accuracy has increased by ~6% and Testing accuracy has increased by ~4%. \n",
    "\n",
    "There is a marginal increase in the difference between the Training and Test scores (~6% compared to ~5% previously) though the difference remains low so the model has not suffered from overfitting. "
   ]
  },
  {
   "cell_type": "markdown",
   "metadata": {},
   "source": [
    "### Predictions  \n",
    "\n",
    "Here we will modify our previous method for testing the models predictions on a specified audio .wav file. "
   ]
  },
  {
   "cell_type": "code",
   "execution_count": 50,
   "metadata": {},
   "outputs": [],
   "source": [
    "def print_prediction(file_name):\n",
    "    prediction_feature = extract_features(file_name) \n",
    "    prediction_feature = prediction_feature.reshape(1, num_rows, num_columns, num_channels)\n",
    "\n",
    "    predicted_vector = model.predict_classes(prediction_feature)\n",
    "    predicted_class = le.inverse_transform(predicted_vector) \n",
    "    print(\"The predicted class is:\", predicted_class[0], '\\n') \n",
    "\n",
    "    predicted_proba_vector = model.predict_proba(prediction_feature) \n",
    "    predicted_proba = predicted_proba_vector[0]\n",
    "    for i in range(len(predicted_proba)): \n",
    "        category = le.inverse_transform(np.array([i]))\n",
    "        print(category[0], \"\\t\\t : \", format(predicted_proba[i], '.32f') )"
   ]
  },
  {
   "cell_type": "markdown",
   "metadata": {},
   "source": [
    "### Validation \n",
    "\n",
    "#### Test with sample data \n",
    "\n",
    "As before we will verify the predictions using a subsection of the sample audio files we explored in the first notebook. We expect the bulk of these to be classified correctly. "
   ]
  },
  {
   "cell_type": "code",
   "execution_count": 51,
   "metadata": {},
   "outputs": [
    {
     "name": "stdout",
     "output_type": "stream",
     "text": [
      "The predicted class is: air_conditioner \n",
      "\n",
      "air_conditioner \t\t :  0.90663295984268188476562500000000\n",
      "car_horn \t\t :  0.00000379312382392527069896459579\n",
      "children_playing \t\t :  0.00372877437621355056762695312500\n",
      "dog_bark \t\t :  0.00003181818829034455120563507080\n",
      "drilling \t\t :  0.00387497572228312492370605468750\n",
      "engine_idling \t\t :  0.00299200275912880897521972656250\n",
      "gun_shot \t\t :  0.00765613839030265808105468750000\n",
      "jackhammer \t\t :  0.07329261302947998046875000000000\n",
      "siren \t\t :  0.00018024632299784570932388305664\n",
      "street_music \t\t :  0.00160682143177837133407592773438\n"
     ]
    }
   ],
   "source": [
    "# Class: Air Conditioner\n",
    "\n",
    "filename = '../UrbanSound Dataset sample/audio/100852-0-0-0.wav' \n",
    "print_prediction(filename) "
   ]
  },
  {
   "cell_type": "code",
   "execution_count": 52,
   "metadata": {
    "scrolled": true
   },
   "outputs": [
    {
     "name": "stdout",
     "output_type": "stream",
     "text": [
      "The predicted class is: drilling \n",
      "\n",
      "air_conditioner \t\t :  0.00070991273969411849975585937500\n",
      "car_horn \t\t :  0.00000001777174851724794280016795\n",
      "children_playing \t\t :  0.00001405069633619859814643859863\n",
      "dog_bark \t\t :  0.00000047111242906794359441846609\n",
      "drilling \t\t :  0.99598699808120727539062500000000\n",
      "engine_idling \t\t :  0.00000354658413925790227949619293\n",
      "gun_shot \t\t :  0.00000003223207656333215709310025\n",
      "jackhammer \t\t :  0.00052903906907886266708374023438\n",
      "siren \t\t :  0.00000098340262866258854046463966\n",
      "street_music \t\t :  0.00275487988255918025970458984375\n"
     ]
    }
   ],
   "source": [
    "# Class: Drilling\n",
    "\n",
    "filename = '../UrbanSound Dataset sample/audio/103199-4-0-0.wav'\n",
    "print_prediction(filename) "
   ]
  },
  {
   "cell_type": "code",
   "execution_count": 53,
   "metadata": {},
   "outputs": [
    {
     "name": "stdout",
     "output_type": "stream",
     "text": [
      "The predicted class is: street_music \n",
      "\n",
      "air_conditioner \t\t :  0.00011496015213197097182273864746\n",
      "car_horn \t\t :  0.00079288281267508864402770996094\n",
      "children_playing \t\t :  0.01791538484394550323486328125000\n",
      "dog_bark \t\t :  0.00257923710159957408905029296875\n",
      "drilling \t\t :  0.00007904539961600676178932189941\n",
      "engine_idling \t\t :  0.00006061193562345579266548156738\n",
      "gun_shot \t\t :  0.00000000007482268277181347571059\n",
      "jackhammer \t\t :  0.00000457825990451965481042861938\n",
      "siren \t\t :  0.00922307930886745452880859375000\n",
      "street_music \t\t :  0.96923023462295532226562500000000\n"
     ]
    }
   ],
   "source": [
    "# Class: Street music \n",
    "\n",
    "filename = '../UrbanSound Dataset sample/audio/101848-9-0-0.wav'\n",
    "print_prediction(filename) "
   ]
  },
  {
   "cell_type": "code",
   "execution_count": 64,
   "metadata": {},
   "outputs": [
    {
     "name": "stdout",
     "output_type": "stream",
     "text": [
      "The predicted class is: drilling \n",
      "\n",
      "air_conditioner \t\t :  0.00059866637457162141799926757812\n",
      "car_horn \t\t :  0.26391193270683288574218750000000\n",
      "children_playing \t\t :  0.00126012135297060012817382812500\n",
      "dog_bark \t\t :  0.27843952178955078125000000000000\n",
      "drilling \t\t :  0.34817233681678771972656250000000\n",
      "engine_idling \t\t :  0.00339049054309725761413574218750\n",
      "gun_shot \t\t :  0.05176293104887008666992187500000\n",
      "jackhammer \t\t :  0.03859317675232887268066406250000\n",
      "siren \t\t :  0.01271206419914960861206054687500\n",
      "street_music \t\t :  0.00115874561015516519546508789062\n"
     ]
    }
   ],
   "source": [
    "# Class: Car Horn \n",
    "\n",
    "filename = '../UrbanSound Dataset sample/audio/100648-1-0-0.wav'\n",
    "print_prediction(filename) "
   ]
  },
  {
   "cell_type": "markdown",
   "metadata": {},
   "source": [
    "#### Observations \n",
    "\n",
    "We can see that the model performs well. \n",
    "\n",
    "Interestingly, car horn was again incorrectly classifed but this time as drilling - though the per class confidence shows it was a close decision between car horn with 26% confidence and drilling at 34% confidence.  "
   ]
  },
  {
   "cell_type": "markdown",
   "metadata": {},
   "source": [
    "### Other audio\n",
    "\n",
    "Again we will further validate our model using a sample of various copyright free sounds that we not part of either our test or training data. "
   ]
  },
  {
   "cell_type": "code",
   "execution_count": 55,
   "metadata": {},
   "outputs": [
    {
     "name": "stdout",
     "output_type": "stream",
     "text": [
      "The predicted class is: dog_bark \n",
      "\n",
      "air_conditioner \t\t :  0.00053069164277985692024230957031\n",
      "car_horn \t\t :  0.01807974837720394134521484375000\n",
      "children_playing \t\t :  0.00958889070898294448852539062500\n",
      "dog_bark \t\t :  0.84292083978652954101562500000000\n",
      "drilling \t\t :  0.02251568622887134552001953125000\n",
      "engine_idling \t\t :  0.00286057707853615283966064453125\n",
      "gun_shot \t\t :  0.09233076870441436767578125000000\n",
      "jackhammer \t\t :  0.00147349410690367221832275390625\n",
      "siren \t\t :  0.00702858529984951019287109375000\n",
      "street_music \t\t :  0.00267084036022424697875976562500\n"
     ]
    }
   ],
   "source": [
    "filename = '../Evaluation audio/dog_bark_1.wav'\n",
    "print_prediction(filename) "
   ]
  },
  {
   "cell_type": "code",
   "execution_count": 66,
   "metadata": {
    "scrolled": true
   },
   "outputs": [
    {
     "name": "stdout",
     "output_type": "stream",
     "text": [
      "The predicted class is: jackhammer \n",
      "\n",
      "air_conditioner \t\t :  0.07861315459012985229492187500000\n",
      "car_horn \t\t :  0.00000012394852433317282702773809\n",
      "children_playing \t\t :  0.00000879450726642971858382225037\n",
      "dog_bark \t\t :  0.00000184070950126624666154384613\n",
      "drilling \t\t :  0.00003378492328920401632785797119\n",
      "engine_idling \t\t :  0.06372328102588653564453125000000\n",
      "gun_shot \t\t :  0.00000011736039340348725090734661\n",
      "jackhammer \t\t :  0.85761523246765136718750000000000\n",
      "siren \t\t :  0.00000361508728019543923437595367\n",
      "street_music \t\t :  0.00000013487000671830173814669251\n"
     ]
    }
   ],
   "source": [
    "filename = '../Evaluation audio/drilling_1.wav'\n",
    "\n",
    "print_prediction(filename) "
   ]
  },
  {
   "cell_type": "code",
   "execution_count": 65,
   "metadata": {},
   "outputs": [
    {
     "name": "stdout",
     "output_type": "stream",
     "text": [
      "The predicted class is: gun_shot \n",
      "\n",
      "air_conditioner \t\t :  0.00000001711038777330031734891236\n",
      "car_horn \t\t :  0.00000002828730849557814508443698\n",
      "children_playing \t\t :  0.00001153892753791296854615211487\n",
      "dog_bark \t\t :  0.00006763751298421993851661682129\n",
      "drilling \t\t :  0.00002225582647952251136302947998\n",
      "engine_idling \t\t :  0.00000385214798370725475251674652\n",
      "gun_shot \t\t :  0.99988853931427001953125000000000\n",
      "jackhammer \t\t :  0.00000000060133342749679741245927\n",
      "siren \t\t :  0.00000603337139182258397340774536\n",
      "street_music \t\t :  0.00000002041979207945132657187060\n"
     ]
    }
   ],
   "source": [
    "filename = '../Evaluation audio/gun_shot_1.wav'\n",
    "\n",
    "print_prediction(filename) "
   ]
  },
  {
   "cell_type": "markdown",
   "metadata": {},
   "source": [
    "#### Observations \n",
    "\n",
    "The performance of our final model is very good and has generalised well, seeming to predict well when tested against new audio data. "
   ]
  }
 ],
 "metadata": {
  "kernelspec": {
   "display_name": "Python 3",
   "language": "python",
   "name": "python3"
  },
  "language_info": {
   "codemirror_mode": {
    "name": "ipython",
    "version": 3
   },
   "file_extension": ".py",
   "mimetype": "text/x-python",
   "name": "python",
   "nbconvert_exporter": "python",
   "pygments_lexer": "ipython3",
   "version": "3.6.4"
  }
 },
 "nbformat": 4,
 "nbformat_minor": 2
}
